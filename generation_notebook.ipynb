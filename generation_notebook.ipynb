{
 "cells": [
  {
   "cell_type": "code",
   "execution_count": null,
   "metadata": {},
   "outputs": [],
   "source": [
    "import os\n",
    "from zlm import AutoApplyModel\n",
    "from creds import OPENAI_KEY\n",
    "\n",
    "#os.environ['OPENAI_KEY'] = OPENAI_KEY\n",
    "os.environ['OPENAI_API_KEY'] = OPENAI_KEY\n",
    "\n",
    "\n",
    "job_llm = AutoApplyModel(\n",
    "    api_key=None,\n",
    "    provider=\"GPT\", #ENTER PROVIDER <gemini> or <openai>\n",
    "    downloads_dir=r\"/Users/aaronrdankert/projects/job_hunter/output_files\", #[optional] ENTER FOLDER PATH WHERE FILE GET DOWNLOADED, By default, 'downloads' folder\n",
    "    model=\"chatgpt-4o-latest\"\n",
    ")\n",
    "\n",
    "\n",
    "url = r\"https://careers-jobyaviation.icims.com/jobs/3483/senior-backend-software-engineer%2c-factory-systems/job\"\n",
    "resume_pdf_path = r\"input_data/Grad School Resume.pdf\"\n",
    "job_llm.resume_cv_pipeline(\n",
    "    job_url=url,\n",
    "    user_data_path= resume_pdf_path # .pdf or .json\n",
    ") # Return and downloads curated resume and cover letter."
   ]
  },
  {
   "cell_type": "markdown",
   "metadata": {},
   "source": [
    "Markdown "
   ]
  },
  {
   "cell_type": "code",
   "execution_count": 5,
   "metadata": {},
   "outputs": [
    {
     "name": "stdout",
     "output_type": "stream",
     "text": [
      "Starting Auto Resume and CV Pipeline\n",
      "\n",
      "Fetching user data...\n"
     ]
    },
    {
     "name": "stderr",
     "output_type": "stream",
     "text": [
      "2024-11-04 21:28:57.352 Thread 'MainThread': missing ScriptRunContext! This warning can be ignored when running in bare mode.\n",
      "2024-11-04 21:28:57.354 Thread 'MainThread': missing ScriptRunContext! This warning can be ignored when running in bare mode.\n",
      "2024-11-04 21:28:57.355 Thread 'MainThread': missing ScriptRunContext! This warning can be ignored when running in bare mode.\n",
      "2024-11-04 21:28:57.356 Thread 'MainThread': missing ScriptRunContext! This warning can be ignored when running in bare mode.\n",
      "2024-11-04 21:28:57.357 Thread 'MainThread': missing ScriptRunContext! This warning can be ignored when running in bare mode.\n",
      "2024-11-04 21:28:57.357 Thread 'MainThread': missing ScriptRunContext! This warning can be ignored when running in bare mode.\n",
      "2024-11-04 21:28:57.358 Thread 'MainThread': missing ScriptRunContext! This warning can be ignored when running in bare mode.\n",
      "2024-11-04 21:28:57.358 Thread 'MainThread': missing ScriptRunContext! This warning can be ignored when running in bare mode.\n",
      "2024-11-04 21:28:57.360 Thread 'MainThread': missing ScriptRunContext! This warning can be ignored when running in bare mode.\n",
      "2024-11-04 21:28:57.361 Thread 'MainThread': missing ScriptRunContext! This warning can be ignored when running in bare mode.\n"
     ]
    },
    {
     "name": "stdout",
     "output_type": "stream",
     "text": [
      "Function user_data_extraction took 12.8141 seconds to execute\n",
      "\n",
      "Extracting job details...\n",
      "It looks like you are using Playwright Sync API inside the asyncio loop.\n",
      "Please use the Async API instead.\n",
      "Unable to web scrape the job description.\n",
      "Function job_details_extraction took 0.0071 seconds to execute\n",
      "\n",
      "Generating Resume Details...\n"
     ]
    },
    {
     "name": "stderr",
     "output_type": "stream",
     "text": [
      "2024-11-04 21:29:18.690 Thread 'MainThread': missing ScriptRunContext! This warning can be ignored when running in bare mode.\n",
      "2024-11-04 21:29:18.691 Thread 'MainThread': missing ScriptRunContext! This warning can be ignored when running in bare mode.\n",
      "2024-11-04 21:29:18.693 Thread 'MainThread': missing ScriptRunContext! This warning can be ignored when running in bare mode.\n",
      "2024-11-04 21:29:18.694 Thread 'MainThread': missing ScriptRunContext! This warning can be ignored when running in bare mode.\n",
      "2024-11-04 21:29:18.696 Thread 'MainThread': missing ScriptRunContext! This warning can be ignored when running in bare mode.\n",
      "2024-11-04 21:29:18.697 Thread 'MainThread': missing ScriptRunContext! This warning can be ignored when running in bare mode.\n"
     ]
    },
    {
     "name": "stdout",
     "output_type": "stream",
     "text": [
      "'NoneType' object is not subscriptable\n",
      "cannot access local variable 'resume_path' where it is not associated with a value\n"
     ]
    }
   ],
   "source": [
    "from creds import OPENAI_KEY\n",
    "from zlm import AutoApplyModel\n",
    "\n",
    "job_llm = AutoApplyModel(\n",
    "    api_key=OPENAI_KEY,  # Pass the actual API key value\n",
    "    provider=\"GPT\",  # ENTER PROVIDER <gemini> or <openai>\n",
    "    downloads_dir=r\"/Users/aaronrdankert/projects/job_hunter/output_files\",  # [optional] ENTER FOLDER PATH WHERE FILE GET DOWNLOADED, By default, 'downloads' folder\n",
    "    model=\"chatgpt-4o-latest\"\n",
    ")\n",
    "\n",
    "url = r\"https://careers-jobyaviation.icims.com/jobs/3483/senior-backend-software-engineer%2c-factory-systems/job\"\n",
    "resume_pdf_path = r\"input_data/Grad School Resume.pdf\"\n",
    "job_llm.resume_cv_pipeline(\n",
    "    job_url=url,\n",
    "    user_data_path=resume_pdf_path  # .pdf or .json\n",
    ")"
   ]
  }
 ],
 "metadata": {
  "kernelspec": {
   "display_name": ".venv",
   "language": "python",
   "name": "python3"
  },
  "language_info": {
   "codemirror_mode": {
    "name": "ipython",
    "version": 3
   },
   "file_extension": ".py",
   "mimetype": "text/x-python",
   "name": "python",
   "nbconvert_exporter": "python",
   "pygments_lexer": "ipython3",
   "version": "3.11.7"
  }
 },
 "nbformat": 4,
 "nbformat_minor": 2
}
