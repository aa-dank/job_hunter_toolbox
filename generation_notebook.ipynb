{
 "cells": [
  {
   "cell_type": "code",
   "execution_count": 1,
   "metadata": {},
   "outputs": [
    {
     "name": "stderr",
     "output_type": "stream",
     "text": [
      "/Users/aaronrdankert/projects/job_hunter_toolbox/.venv/lib/python3.11/site-packages/tqdm/auto.py:21: TqdmWarning: IProgress not found. Please update jupyter and ipywidgets. See https://ipywidgets.readthedocs.io/en/stable/user_install.html\n",
      "  from .autonotebook import tqdm as notebook_tqdm\n"
     ]
    },
    {
     "name": "stdout",
     "output_type": "stream",
     "text": [
      "Job Details JSON generated at: output_files/Adobe/DataScienceInte_20241206200450/JD.json\n",
      "\n",
      "Fetching user data...\n"
     ]
    },
    {
     "name": "stderr",
     "output_type": "stream",
     "text": [
      "/Users/aaronrdankert/projects/job_hunter_toolbox/.venv/lib/python3.11/site-packages/pydantic/json_schema.py:2191: PydanticJsonSchemaWarning: Default value (FieldInfo(annotation=NoneType, required=True, description='The name or title of the project.'),) is not JSON serializable; excluding default from JSON schema [non-serializable-default]\n",
      "  warnings.warn(message, PydanticJsonSchemaWarning)\n",
      "/Users/aaronrdankert/projects/job_hunter_toolbox/.venv/lib/python3.11/site-packages/pydantic/json_schema.py:2191: PydanticJsonSchemaWarning: Default value (FieldInfo(annotation=NoneType, required=True, description='The type or category of the project, such as hackathon, publication, professional, and academic.'),) is not JSON serializable; excluding default from JSON schema [non-serializable-default]\n",
      "  warnings.warn(message, PydanticJsonSchemaWarning)\n",
      "/Users/aaronrdankert/projects/job_hunter_toolbox/.venv/lib/python3.11/site-packages/pydantic/json_schema.py:2191: PydanticJsonSchemaWarning: Default value (FieldInfo(annotation=NoneType, required=True, description='The start date of the project. e.g. Aug 2023'),) is not JSON serializable; excluding default from JSON schema [non-serializable-default]\n",
      "  warnings.warn(message, PydanticJsonSchemaWarning)\n",
      "/Users/aaronrdankert/projects/job_hunter_toolbox/.venv/lib/python3.11/site-packages/pydantic/json_schema.py:2191: PydanticJsonSchemaWarning: Default value (FieldInfo(annotation=NoneType, required=True, description='The end date of the project. e.g. Nov 2023'),) is not JSON serializable; excluding default from JSON schema [non-serializable-default]\n",
      "  warnings.warn(message, PydanticJsonSchemaWarning)\n"
     ]
    },
    {
     "name": "stdout",
     "output_type": "stream",
     "text": [
      "\n",
      "Generating Resume Details...\n",
      "Processing Resume's WORK_EXPERIENCE Section...\n",
      "Processing Resume's PROJECTS Section...\n",
      "Processing Resume's SKILL_SECTION Section...\n",
      "Processing Resume's EDUCATION Section...\n",
      "Processing Resume's CERTIFICATIONS Section...\n",
      "Processing Resume's ACHIEVEMENTS Section...\n",
      "Done generating resume tex file\n"
     ]
    }
   ],
   "source": [
    "import os\n",
    "from creds import OPENAI_KEY\n",
    "from application_generator import JobApplicationBuilder\n",
    "from models import ChatGPT\n",
    "from prompts.resume_section_prompts import RESUME_WRITER_PERSONA\n",
    "\n",
    "llm = ChatGPT(\n",
    "    api_key=OPENAI_KEY,\n",
    "    model=\"gpt-4o\",\n",
    "    system_prompt=RESUME_WRITER_PERSONA,\n",
    "    max_output_tokens=None,\n",
    "    temperature=0.7\n",
    ")\n",
    "\n",
    "generator = JobApplicationBuilder(\n",
    "    llm=llm,\n",
    ")\n",
    "\n",
    "job_content_path = r\"input_data/Adobe Finance Data Scientist.pdf\"\n",
    "resume_pdf_path = r\"input_data/full_resume_contents_20241124.pdf\"\n",
    "#resume_pdf_path = r\"input_data/Grad School Resume.pdf\"\n",
    "job_details_dict, job_details_filepath = generator.extract_job_content(job_content_path)\n",
    "resume_dict = generator.user_data_extraction(user_data_path=resume_pdf_path)\n",
    "resume_details_dict, resume_details_filepath = generator.generate_resume_json(job_content=job_details_dict,\n",
    "                                                                              user_data=resume_dict)\n",
    "\n",
    "resume_latex, resume_tex_path = generator.resume_json_to_resume_tex(resume_details=resume_details_dict)\n",
    "print(\"Done generating resume tex file\")\n"
   ]
  },
  {
   "cell_type": "code",
   "execution_count": null,
   "metadata": {},
   "outputs": [],
   "source": []
  },
  {
   "cell_type": "markdown",
   "metadata": {},
   "source": [
    "Edit the resume latex before running the next cell."
   ]
  },
  {
   "cell_type": "code",
   "execution_count": 2,
   "metadata": {},
   "outputs": [
    {
     "name": "stdout",
     "output_type": "stream",
     "text": [
      "PDF successfully saved to /Users/aaronrdankert/projects/job_hunter_toolbox/output_files/Adobe/DataScienceInte_20241206200450\n",
      "Resume PDF is saved at output_files folder.\n",
      "Cover Letter generated at:  output_files/Adobe/DataScienceInte_20241206200450/cv.txt\n",
      "Cover Letter PDF generated at:  output_files/Adobe/DataScienceInte_20241206200450/cv.pdf\n",
      "Cover Letter is saved at output_files/Adobe/DataScienceInte_20241206200450/cv.pdf\n"
     ]
    }
   ],
   "source": [
    "generator.save_latex_as_pdf(tex_file_path=resume_tex_path)\n",
    "print(f\"Resume PDF is saved at output_files folder.\")\n",
    "\n",
    "# Create corresponding cover letter\n",
    "cover_letter, cover_letter_tex_path = generator.cover_letter_generator(job_details=job_details_dict, user_data=resume_details_dict)\n",
    "print(f\"Cover Letter is saved at {cover_letter_tex_path}\")"
   ]
  }
 ],
 "metadata": {
  "kernelspec": {
   "display_name": ".venv",
   "language": "python",
   "name": "python3"
  },
  "language_info": {
   "codemirror_mode": {
    "name": "ipython",
    "version": 3
   },
   "file_extension": ".py",
   "mimetype": "text/x-python",
   "name": "python",
   "nbconvert_exporter": "python",
   "pygments_lexer": "ipython3",
   "version": "3.11.10"
  }
 },
 "nbformat": 4,
 "nbformat_minor": 2
}
