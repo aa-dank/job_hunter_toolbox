{
 "cells": [
  {
   "cell_type": "code",
   "execution_count": null,
   "metadata": {},
   "outputs": [],
   "source": [
    "from logger import setup_logger\n",
    "\n",
    "# Initialize logger\n",
    "logger = setup_logger(name=\"NotebookLogger\", log_file=\"notebook.log\")\n",
    "logger.info(\"Notebook execution started.\")"
   ]
  },
  {
   "cell_type": "code",
   "execution_count": null,
   "metadata": {},
   "outputs": [
    {
     "name": "stderr",
     "output_type": "stream",
     "text": [
      "/Users/aaronrdankert/projects/job_hunter_toolbox/.venv/lib/python3.11/site-packages/tqdm/auto.py:21: TqdmWarning: IProgress not found. Please update jupyter and ipywidgets. See https://ipywidgets.readthedocs.io/en/stable/user_install.html\n",
      "  from .autonotebook import tqdm as notebook_tqdm\n"
     ]
    },
    {
     "name": "stdout",
     "output_type": "stream",
     "text": [
      "Job Details JSON generated at: output_files/Ascendion/PythonEngineerI_20250507212335/JD.json\n",
      "\n",
      "Fetching user data...\n",
      "\n",
      "Generating Resume Details...\n",
      "Processing Resume's WORK_EXPERIENCE Section...\n",
      "Processing Resume's PROJECTS Section...\n",
      "Processing Resume's SKILL_SECTION Section...\n",
      "Processing Resume's EDUCATION Section...\n",
      "Processing Resume's CERTIFICATIONS Section...\n",
      "Processing Resume's ACHIEVEMENTS Section...\n",
      "Done generating resume tex file\n",
      "Cover Letter generated at:  output_files/Ascendion/PythonEngineerI_20250507212335/cover_letter.txt\n"
     ]
    },
    {
     "name": "stderr",
     "output_type": "stream",
     "text": [
      "Matplotlib is building the font cache; this may take a moment.\n"
     ]
    }
   ],
   "source": [
    "import os\n",
    "import shutil\n",
    "from creds import OPENAI_KEY\n",
    "from application_generator import JobApplicationBuild, JobApplicationBuilder\n",
    "from utils import LatexToolBox, text_to_pdf\n",
    "from models import ChatGPT\n",
    "from prompts.resume_section_prompts import RESUME_WRITER_PERSONA\n",
    "import warnings\n",
    "warnings.filterwarnings(\"ignore\", category=DeprecationWarning)\n",
    "warnings.filterwarnings(\"ignore\", category=UserWarning)\n",
    "warnings.filterwarnings(\"ignore\", category=FutureWarning)\n",
    "\n",
    "logger.info(\"Setting up LLM and JobApplicationBuilder.\")\n",
    "llm = ChatGPT(\n",
    "    api_key=OPENAI_KEY,\n",
    "    model=\"gpt-4.1\",\n",
    "    system_prompt=RESUME_WRITER_PERSONA,\n",
    "    max_output_tokens=None,\n",
    "    temperature=0.7\n",
    ")\n",
    "\n",
    "build = JobApplicationBuild(\n",
    "    resume_tex_template_path=\"less_basic_template.tex\",\n",
    "    resume_cls_path=\"less_basic_template.cls\",\n",
    "    job_content_path=r\"input_data/Ascendion_python_engineer.pdf\",\n",
    "    user_details_content_path=r\"input_data/full_resume_contents_20250122.pdf\"\n",
    ")\n",
    "\n",
    "generator = JobApplicationBuilder(\n",
    "    llm=llm\n",
    ")\n",
    "\n",
    "try:\n",
    "    build = generator.extract_job_content(build)\n",
    "    logger.info(\"Job content extracted successfully.\")\n",
    "\n",
    "    build = generator.user_data_extraction(build)\n",
    "    logger.info(\"User data extracted successfully.\")\n",
    "\n",
    "    build = generator.generate_resume_json(build)\n",
    "    logger.info(\"Resume JSON generated successfully.\")\n",
    "\n",
    "    build = generator.validate_resume_json(build)\n",
    "    logger.info(\"Resume JSON validated successfully.\")\n",
    "\n",
    "    build = generator.resume_json_to_resume_tex(build)\n",
    "    logger.info(\"Resume TeX file generated successfully.\")\n",
    "\n",
    "    custom_letter_instructions = input(\"Enter any custom application instructions for the cover letter: \")\n",
    "    build = generator.generate_cover_letter(build, custom_letter_instructions, need_pdf=False)\n",
    "    logger.info(\"Cover letter generated successfully.\")\n",
    "\n",
    "    resume_tex_fonts, _ = LatexToolBox.extract_tex_font_dependencies(build.resume_tex_path)\n",
    "    font_statuses = LatexToolBox.check_fonts_installed(resume_tex_fonts)\n",
    "    if not all([v for k, v in font_statuses.items()]):\n",
    "        for k, v in font_statuses.items():\n",
    "            if not v:\n",
    "                logger.warning(f\"{k} not installed\")\n",
    "\n",
    "    generator.cleanup_files(build)\n",
    "    logger.info(\"Temporary files cleaned up successfully.\")\n",
    "\n",
    "except Exception as e:\n",
    "    logger.error(f\"An error occurred: {e}\", exc_info=True)"
   ]
  },
  {
   "cell_type": "markdown",
   "metadata": {},
   "source": [
    "Edit the resume latex and cover letter text before running the next cell."
   ]
  },
  {
   "cell_type": "code",
   "execution_count": null,
   "metadata": {},
   "outputs": [
    {
     "name": "stdout",
     "output_type": "stream",
     "text": [
      "File not found: [Errno 2] No such file or directory: 'less_basic_template.cls'\n",
      "LaTeX compilation failed.\n",
      "Cover Letter PDF is saved at /Users/aaronrdankert/projects/job_hunter_toolbox/output_files/Ascendion/PythonEngineerI_20250507212335/cover_letter.pdf\n"
     ]
    },
    {
     "ename": "Error",
     "evalue": "Destination path 'output_files/Ascendion/PythonEngineerI_20250507212335/Ascendion_python_engineer.pdf' already exists",
     "output_type": "error",
     "traceback": [
      "\u001b[0;31m---------------------------------------------------------------------------\u001b[0m",
      "\u001b[0;31mError\u001b[0m                                     Traceback (most recent call last)",
      "Cell \u001b[0;32mIn[4], line 18\u001b[0m\n\u001b[1;32m     15\u001b[0m cover_letter_pdf_path \u001b[38;5;241m=\u001b[39m text_to_pdf(build\u001b[38;5;241m.\u001b[39mcover_letter_path, cover_letter_pdf_path)\n\u001b[1;32m     16\u001b[0m \u001b[38;5;28mprint\u001b[39m(\u001b[38;5;124mf\u001b[39m\u001b[38;5;124m\"\u001b[39m\u001b[38;5;124mCover Letter PDF is saved at \u001b[39m\u001b[38;5;132;01m{\u001b[39;00mcover_letter_pdf_path\u001b[38;5;132;01m}\u001b[39;00m\u001b[38;5;124m\"\u001b[39m)\n\u001b[0;32m---> 18\u001b[0m \u001b[43mgenerator\u001b[49m\u001b[38;5;241;43m.\u001b[39;49m\u001b[43mcleanup_files\u001b[49m\u001b[43m(\u001b[49m\u001b[43mbuild\u001b[49m\u001b[43m)\u001b[49m\n",
      "File \u001b[0;32m~/projects/job_hunter_toolbox/application_generator.py:509\u001b[0m, in \u001b[0;36mJobApplicationBuilder.cleanup_files\u001b[0;34m(self, build)\u001b[0m\n\u001b[1;32m    507\u001b[0m \u001b[38;5;28;01mimport\u001b[39;00m \u001b[38;5;21;01mshutil\u001b[39;00m\n\u001b[1;32m    508\u001b[0m \u001b[38;5;28;01mif\u001b[39;00m build\u001b[38;5;241m.\u001b[39mjob_content_path:\n\u001b[0;32m--> 509\u001b[0m     \u001b[43mshutil\u001b[49m\u001b[38;5;241;43m.\u001b[39;49m\u001b[43mmove\u001b[49m\u001b[43m(\u001b[49m\u001b[43mbuild\u001b[49m\u001b[38;5;241;43m.\u001b[39;49m\u001b[43mjob_content_path\u001b[49m\u001b[43m,\u001b[49m\u001b[43m \u001b[49m\u001b[43mbuild\u001b[49m\u001b[38;5;241;43m.\u001b[39;49m\u001b[43mget_job_doc_path\u001b[49m\u001b[43m(\u001b[49m\u001b[43m)\u001b[49m\u001b[43m)\u001b[49m\n",
      "File \u001b[0;32m/usr/local/Cellar/python@3.11/3.11.12/Frameworks/Python.framework/Versions/3.11/lib/python3.11/shutil.py:851\u001b[0m, in \u001b[0;36mmove\u001b[0;34m(src, dst, copy_function)\u001b[0m\n\u001b[1;32m    848\u001b[0m     real_dst \u001b[38;5;241m=\u001b[39m os\u001b[38;5;241m.\u001b[39mpath\u001b[38;5;241m.\u001b[39mjoin(dst, _basename(src))\n\u001b[1;32m    850\u001b[0m     \u001b[38;5;28;01mif\u001b[39;00m os\u001b[38;5;241m.\u001b[39mpath\u001b[38;5;241m.\u001b[39mexists(real_dst):\n\u001b[0;32m--> 851\u001b[0m         \u001b[38;5;28;01mraise\u001b[39;00m Error(\u001b[38;5;124m\"\u001b[39m\u001b[38;5;124mDestination path \u001b[39m\u001b[38;5;124m'\u001b[39m\u001b[38;5;132;01m%s\u001b[39;00m\u001b[38;5;124m'\u001b[39m\u001b[38;5;124m already exists\u001b[39m\u001b[38;5;124m\"\u001b[39m \u001b[38;5;241m%\u001b[39m real_dst)\n\u001b[1;32m    852\u001b[0m \u001b[38;5;28;01mtry\u001b[39;00m:\n\u001b[1;32m    853\u001b[0m     os\u001b[38;5;241m.\u001b[39mrename(src, real_dst)\n",
      "\u001b[0;31mError\u001b[0m: Destination path 'output_files/Ascendion/PythonEngineerI_20250507212335/Ascendion_python_engineer.pdf' already exists"
     ]
    }
   ],
   "source": [
    "success = LatexToolBox.compile_latex_to_pdf(\n",
    "    tex_filepath=build.resume_tex_path, \n",
    "    cls_filepath=build.resume_cls_path,\n",
    "    output_destination_path=build.output_destination\n",
    ")\n",
    "if success:\n",
    "    # Remove auxiliary files using resume base name (without extension)\n",
    "    base_name = os.path.splitext(os.path.basename(build.resume_tex_path))[0]\n",
    "    LatexToolBox.cleanup_latex_files(build.output_destination, base_name)\n",
    "    logger.info(f\"Resume PDF is saved at {build.resume_tex_path.replace('.tex','.pdf')}\")\n",
    "else:\n",
    "    logger.error(\"LaTeX compilation failed.\")\n",
    "\n",
    "cover_letter_pdf_path = build.cover_letter_path.replace('.txt', '.pdf')\n",
    "cover_letter_pdf_path = text_to_pdf(build.cover_letter_path, cover_letter_pdf_path)\n",
    "logger.info(f\"Cover Letter PDF is saved at {cover_letter_pdf_path}\")\n",
    "\n",
    "generator.cleanup_files(build)\n",
    "logger.info(\"Temporary files cleaned up successfully.\")"
   ]
  },
  {
   "cell_type": "code",
   "execution_count": null,
   "metadata": {},
   "outputs": [],
   "source": [
    "# move the job content file to the output folder\n",
    "shutil.move(job_content_path, generator.get_job_doc_path())"
   ]
  },
  {
   "cell_type": "markdown",
   "metadata": {},
   "source": [
    "Edit the resume latex and cover letter text before running the next cell."
   ]
  },
  {
   "cell_type": "code",
   "execution_count": null,
   "metadata": {},
   "outputs": [],
   "source": [
    "LatexToolBox.compile_latex_to_pdf(tex_filepath=resume_tex_path)\n",
    "logger.info(f\"Resume PDF is saved at {resume_tex_path.replace('.tex', '.pdf')}\")\n",
    "\n",
    "cover_letter_pdf_path = cover_letter_txt_path.replace('.txt', '.pdf')\n",
    "cover_letter_pdf_path = text_to_pdf(cover_letter, cover_letter_pdf_path)\n",
    "logger.info(f\"Cover Letter PDF is saved at {cover_letter_pdf_path}\")"
   ]
  },
  {
   "cell_type": "code",
   "execution_count": null,
   "metadata": {},
   "outputs": [],
   "source": [
    "# move the job content file to the output folder\n",
    "shutil.move(job_content_path, generator.get_job_doc_path())"
   ]
  },
  {
   "cell_type": "code",
   "execution_count": null,
   "metadata": {},
   "outputs": [],
   "source": [
    "import os\n",
    "import shutil\n",
    "from creds import OPENAI_KEY\n",
    "from application_generator import JobApplicationBuilder\n",
    "from application_generator import JobApplicationBuilder\n",
    "from utils import LatexToolBox, text_to_pdf\n",
    "from models import ChatGPT\n",
    "from prompts.resume_section_prompts import RESUME_WRITER_PERSONA\n",
    "import warnings\n",
    "warnings.filterwarnings(\"ignore\", category=DeprecationWarning)\n",
    "warnings.filterwarnings(\"ignore\", category=UserWarning)\n",
    "warnings.filterwarnings(\"ignore\", category=FutureWarning)\n",
    "\n",
    "p = r\"output_files/MolinaHealthcare/DataAnalystSqlD_20250219194427/resume.tex\"\n",
    "logger.info(f\"Checking existence of file: {p}\")\n",
    "logger.info(f\"File exists: {os.path.exists(p)}\")\n",
    "\n",
    "LatexToolBox.compile_latex_to_pdf(tex_filepath=p,\n",
    "                                  cls_filepath=\"templates/less_basic_template.cls\",\n",
    "                                  output_destination_path=\"output_files/MolinaHealthcare/DataAnalystSqlD_20250219194427\")"
   ]
  },
  {
   "cell_type": "code",
   "execution_count": null,
   "metadata": {},
   "outputs": [
    {
     "name": "stderr",
     "output_type": "stream",
     "text": [
      "/Users/aaronrdankert/projects/job_hunter_toolbox/.venv/lib/python3.11/site-packages/tqdm/auto.py:21: TqdmWarning: IProgress not found. Please update jupyter and ipywidgets. See https://ipywidgets.readthedocs.io/en/stable/user_install.html\n",
      "  from .autonotebook import tqdm as notebook_tqdm\n"
     ]
    }
   ],
   "source": [
    "import os\n",
    "import shutil\n",
    "from creds import OPENAI_KEY\n",
    "from application_generator import JobApplicationBuild, JobApplicationBuilder\n",
    "from utils import LatexToolBox, text_to_pdf\n",
    "from models import ChatGPT\n",
    "from prompts.resume_section_prompts import RESUME_WRITER_PERSONA\n",
    "import warnings\n",
    "warnings.filterwarnings(\"ignore\", category=DeprecationWarning)\n",
    "warnings.filterwarnings(\"ignore\", category=UserWarning)\n",
    "warnings.filterwarnings(\"ignore\", category=FutureWarning)\n",
    "\n",
    "success = LatexToolBox.compile_latex_to_pdf(\n",
    "    tex_filepath='output_files/Ascendion/PythonEngineerI_20250507212335/resume.tex',\n",
    "    cls_filepath='templates/less_basic_template.cls',\n",
    "    output_destination_path='output_files/Ascendion/PythonEngineerI_20250507212335')\n",
    "if success:\n",
    "    logger.info(\"LaTeX compilation succeeded.\")\n",
    "else:\n",
    "    logger.error(\"LaTeX compilation failed.\")"
   ]
  }
 ],
 "metadata": {
  "kernelspec": {
   "display_name": ".venv",
   "language": "python",
   "name": "python3"
  },
  "language_info": {
   "codemirror_mode": {
    "name": "ipython",
    "version": 3
   },
   "file_extension": ".py",
   "mimetype": "text/x-python",
   "name": "python",
   "nbconvert_exporter": "python",
   "pygments_lexer": "ipython3",
   "version": "3.11.12"
  }
 },
 "nbformat": 4,
 "nbformat_minor": 2
}
