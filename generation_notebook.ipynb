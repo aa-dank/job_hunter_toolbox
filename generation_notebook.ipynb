{
 "cells": [
  {
   "cell_type": "code",
   "execution_count": 4,
   "metadata": {},
   "outputs": [
    {
     "name": "stderr",
     "output_type": "stream",
     "text": [
      "INFO - Notebook execution started.\n"
     ]
    }
   ],
   "source": [
    "import logging\n",
    "from logger import setup_logger\n",
    "\n",
    "# Initialize logger for notebook\n",
    "logger = setup_logger(name=\"NotebookLogger\", notebook=True, level=logging.DEBUG)\n",
    "logger.info(\"Notebook execution started.\")\n",
    "\n",
    "# Ensure all subprocess logs are visible in the notebook\n",
    "logger.setLevel(logging.DEBUG)\n",
    "if not any(isinstance(h, logging.StreamHandler) for h in logger.handlers):\n",
    "    handler = logging.StreamHandler()\n",
    "    handler.setLevel(logging.DEBUG)\n",
    "    formatter = logging.Formatter('%(asctime)s %(levelname)s %(name)s: %(message)s')\n",
    "    handler.setFormatter(formatter)\n",
    "    logger.addHandler(handler)"
   ]
  },
  {
   "cell_type": "code",
   "execution_count": 5,
   "metadata": {},
   "outputs": [
    {
     "name": "stderr",
     "output_type": "stream",
     "text": [
      "INFO - Setting up LLM and JobApplicationBuilder.\n",
      "INFO - Extracting job content from the provided file.\n",
      "INFO - Job Details JSON generated at: output_files/CityOfSantaClara/BusinessAnalyst_20250702191407/JD.json\n",
      "INFO - Job content extracted successfully.\n",
      "INFO - Extracting user data from the provided resume file.\n",
      "INFO - User data extracted successfully.\n",
      "INFO - User data extracted successfully.\n",
      "INFO - Generating resume JSON from job details and user data.\n",
      "INFO - Processing Resume's EXPERIENCES Section...\n",
      "INFO - Processing Resume's PROJECTS Section...\n",
      "INFO - Processing Resume's SKILLS Section...\n",
      "INFO - Processing Resume's EDUCATIONS Section...\n",
      "INFO - Processing Resume's CERTIFICATIONS Section...\n",
      "INFO - Processing Resume's ACHIEVEMENTS Section...\n",
      "INFO - Resume JSON saved at: output_files/CityOfSantaClara/BusinessAnalyst_20250702191407/resume.json\n",
      "INFO - Resume JSON generated successfully.\n",
      "INFO - Validation diff printed to terminal.\n",
      "INFO - Resume JSON validated successfully.\n"
     ]
    },
    {
     "name": "stdout",
     "output_type": "stream",
     "text": [
      "\n"
     ]
    },
    {
     "name": "stderr",
     "output_type": "stream",
     "text": [
      "INFO - Converting resume JSON to LaTeX format.\n",
      "INFO - Resume LaTeX file saved at: output_files/CityOfSantaClara/BusinessAnalyst_20250702191407/resume.tex\n",
      "INFO - Resume TeX file generated successfully.\n",
      "INFO - Generating cover letter.\n",
      "INFO - Cover letter generated at: output_files/CityOfSantaClara/BusinessAnalyst_20250702191407/cover_letter.txt\n",
      "INFO - Cover letter generated successfully.\n",
      "INFO - Cleaning up temporary files.\n",
      "INFO - Temporary files cleaned up successfully.\n",
      "INFO - Temporary files cleaned up successfully.\n"
     ]
    }
   ],
   "source": [
    "import os\n",
    "import shutil\n",
    "from creds import OPENAI_KEY\n",
    "from application_generator import JobApplicationBuild, JobApplicationBuilder\n",
    "from utils import LatexToolBox, text_to_pdf\n",
    "from models import ChatGPT\n",
    "from prompts.resume_section_prompts import RESUME_WRITER_PERSONA\n",
    "import warnings\n",
    "warnings.filterwarnings(\"ignore\", category=DeprecationWarning)\n",
    "warnings.filterwarnings(\"ignore\", category=UserWarning)\n",
    "warnings.filterwarnings(\"ignore\", category=FutureWarning)\n",
    "\n",
    "logger.info(\"Setting up LLM and JobApplicationBuilder.\")\n",
    "llm = ChatGPT(\n",
    "    api_key=OPENAI_KEY,\n",
    "    model=\"gpt-4.1\",\n",
    "    system_prompt=RESUME_WRITER_PERSONA,\n",
    "    max_output_tokens=None,\n",
    "    temperature=0.7\n",
    ")\n",
    "\n",
    "build = JobApplicationBuild(\n",
    "    resume_tex_template_path=\"less_basic_template.tex\",\n",
    "    resume_cls_path=\"less_basic_template.cls\",\n",
    "    job_content_path=\"input_data/santa_clara_BA.pdf\",\n",
    "    user_details_content_path=r\"input_data/full_resume_contents_20250613.pdf\"\n",
    ")\n",
    "\n",
    "generator = JobApplicationBuilder(\n",
    "    llm=llm\n",
    ")\n",
    "\n",
    "try:\n",
    "    build = generator.extract_job_content(build)\n",
    "    logger.info(\"Job content extracted successfully.\")\n",
    "\n",
    "    build = generator.user_data_extraction(build)\n",
    "    logger.info(\"User data extracted successfully.\")\n",
    "\n",
    "    build = generator.generate_resume_json(build)\n",
    "    logger.info(\"Resume JSON generated successfully.\")\n",
    "\n",
    "    build = generator.validate_resume_json(build, print_viz_changes=True)\n",
    "    logger.info(\"Resume JSON validated successfully.\")\n",
    "\n",
    "    build = generator.resume_json_to_resume_tex(build)\n",
    "    logger.info(\"Resume TeX file generated successfully.\")\n",
    "\n",
    "    custom_letter_instructions = input(\"Enter any custom application instructions for the cover letter: \")\n",
    "    build = generator.generate_cover_letter(build, custom_letter_instructions, need_pdf=False)\n",
    "    logger.info(\"Cover letter generated successfully.\")\n",
    "\n",
    "    resume_tex_fonts, _ = LatexToolBox.extract_tex_font_dependencies(build.resume_tex_path)\n",
    "    font_statuses = LatexToolBox.check_fonts_installed(resume_tex_fonts)\n",
    "    if not all([v for k, v in font_statuses.items()]):\n",
    "        for k, v in font_statuses.items():\n",
    "            if not v:\n",
    "                logger.warning(f\"{k} not installed\")\n",
    "\n",
    "    generator.cleanup_files(build)\n",
    "    logger.info(\"Temporary files cleaned up successfully.\")\n",
    "\n",
    "except Exception as e:\n",
    "    logger.error(f\"An error occurred: {e}\", exc_info=True)"
   ]
  },
  {
   "cell_type": "markdown",
   "metadata": {},
   "source": [
    "Edit the resume latex and cover letter text before running the next cell."
   ]
  },
  {
   "cell_type": "code",
   "execution_count": 3,
   "metadata": {},
   "outputs": [
    {
     "name": "stderr",
     "output_type": "stream",
     "text": [
      "INFO - Resume PDF is saved at output_files/CaloptimaHealth/DataAnalystSrQu_20250702191407/resume.pdf\n",
      "INFO - Cover Letter PDF is saved at /Users/aaronrdankert/projects/job_hunter_toolbox/output_files/CaloptimaHealth/DataAnalystSrQu_20250702191407/cover_letter.pdf\n",
      "INFO - Cleaning up temporary files.\n",
      "WARNING - Job content path input_data/CAlOptima Data Analyst, Sr. (Quality Analytics.pdf does not exist.\n",
      "INFO - Temporary files cleaned up successfully.\n",
      "INFO - Temporary files cleaned up successfully.\n"
     ]
    }
   ],
   "source": [
    "success = LatexToolBox.compile_resume_latex_to_pdf(\n",
    "    tex_filepath=build.resume_tex_path, \n",
    "    cls_filepath=build.resume_cls_path,\n",
    "    output_destination_path=build.get_job_doc_path()\n",
    ")\n",
    "if success:\n",
    "    # Remove auxiliary files using resume base name (without extension)\n",
    "    base_name = os.path.splitext(os.path.basename(build.resume_tex_path))[0]\n",
    "    LatexToolBox.cleanup_latex_files(build.get_job_doc_path(), base_name)\n",
    "    logger.info(f\"Resume PDF is saved at {build.resume_tex_path.replace('.tex','.pdf')}\")\n",
    "else:\n",
    "    logger.error(\"LaTeX compilation failed.\")\n",
    "\n",
    "cover_letter_pdf_path = build.cover_letter_path.replace('.txt', '.pdf')\n",
    "cover_letter_pdf_path = text_to_pdf(build.cover_letter_path, cover_letter_pdf_path)\n",
    "logger.info(f\"Cover Letter PDF is saved at {cover_letter_pdf_path}\")\n",
    "\n",
    "generator.cleanup_files(build)\n",
    "logger.info(\"Temporary files cleaned up successfully.\")"
   ]
  },
  {
   "cell_type": "code",
   "execution_count": null,
   "metadata": {},
   "outputs": [],
   "source": [
    "# move the job content file to the output folder\n",
    "shutil.move(job_content_path, generator.get_job_doc_path())"
   ]
  },
  {
   "cell_type": "markdown",
   "metadata": {},
   "source": [
    "Edit the resume latex and cover letter text before running the next cell."
   ]
  },
  {
   "cell_type": "code",
   "execution_count": null,
   "metadata": {},
   "outputs": [],
   "source": [
    "LatexToolBox.compile_resume_latex_to_pdf(tex_filepath=resume_tex_path)\n",
    "logger.info(f\"Resume PDF is saved at {resume_tex_path.replace('.tex', '.pdf')}\")\n",
    "\n",
    "cover_letter_pdf_path = cover_letter_txt_path.replace('.txt', '.pdf')\n",
    "cover_letter_pdf_path = text_to_pdf(cover_letter, cover_letter_pdf_path)\n",
    "logger.info(f\"Cover Letter PDF is saved at {cover_letter_pdf_path}\")"
   ]
  },
  {
   "cell_type": "code",
   "execution_count": null,
   "metadata": {},
   "outputs": [],
   "source": [
    "# move the job content file to the output folder\n",
    "shutil.move(job_content_path, generator.get_job_doc_path())"
   ]
  },
  {
   "cell_type": "code",
   "execution_count": null,
   "metadata": {},
   "outputs": [],
   "source": [
    "import os\n",
    "import shutil\n",
    "from creds import OPENAI_KEY\n",
    "from application_generator import JobApplicationBuilder\n",
    "from application_generator import JobApplicationBuilder\n",
    "from utils import LatexToolBox, text_to_pdf\n",
    "from models import ChatGPT\n",
    "from prompts.resume_section_prompts import RESUME_WRITER_PERSONA\n",
    "import warnings\n",
    "warnings.filterwarnings(\"ignore\", category=DeprecationWarning)\n",
    "warnings.filterwarnings(\"ignore\", category=UserWarning)\n",
    "warnings.filterwarnings(\"ignore\", category=FutureWarning)\n",
    "\n",
    "p = r\"output_files/MolinaHealthcare/DataAnalystSqlD_20250219194427/resume.tex\"\n",
    "logger.info(f\"Checking existence of file: {p}\")\n",
    "logger.info(f\"File exists: {os.path.exists(p)}\")\n",
    "\n",
    "LatexToolBox.compile_resume_latex_to_pdf(tex_filepath=p,\n",
    "                                  cls_filepath=\"templates/less_basic_template.cls\",\n",
    "                                  output_destination_path=\"output_files/MolinaHealthcare/DataAnalystSqlD_20250219194427\")"
   ]
  },
  {
   "cell_type": "code",
   "execution_count": null,
   "metadata": {},
   "outputs": [],
   "source": [
    "import os\n",
    "import shutil\n",
    "from creds import OPENAI_KEY\n",
    "from application_generator import JobApplicationBuild, JobApplicationBuilder\n",
    "from utils import LatexToolBox, text_to_pdf\n",
    "from models import ChatGPT\n",
    "from prompts.resume_section_prompts import RESUME_WRITER_PERSONA\n",
    "import warnings\n",
    "warnings.filterwarnings(\"ignore\", category=DeprecationWarning)\n",
    "warnings.filterwarnings(\"ignore\", category=UserWarning)\n",
    "warnings.filterwarnings(\"ignore\", category=FutureWarning)\n",
    "\n",
    "success = LatexToolBox.compile_resume_latex_to_pdf(\n",
    "    tex_filepath='output_files/Ascendion/PythonEngineerI_20250507212335/resume.tex',\n",
    "    cls_filepath='templates/less_basic_template.cls',\n",
    "    output_destination_path='output_files/Ascendion/PythonEngineerI_20250507212335')\n",
    "if success:\n",
    "    logger.info(\"LaTeX compilation succeeded.\")\n",
    "else:\n",
    "    logger.error(\"LaTeX compilation failed.\")"
   ]
  },
  {
   "cell_type": "code",
   "execution_count": null,
   "metadata": {},
   "outputs": [],
   "source": [
    "import os\n",
    "from utils import LatexToolBox\n",
    "from logger import setup_logger\n",
    "\n",
    "# Initialize logger if not already done in the notebook\n",
    "if 'logger' not in globals():\n",
    "    logger = setup_logger(name=\"NotebookCompileLogger\", notebook=True)\n",
    "    logger.info(\"Logger initialized for master.tex compilation.\")\n",
    "\n",
    "# Define file paths\n",
    "templates_dir = \"templates\"\n",
    "master_tex_path = os.path.join(templates_dir, \"master.tex\")\n",
    "resume_cls_path = os.path.join(templates_dir, \"resume.cls\") # master.tex uses resume.cls\n",
    "output_dir = templates_dir # Output PDF in the same directory\n",
    "\n",
    "logger.info(f\"Attempting to compile {master_tex_path} to PDF in {output_dir}.\")\n",
    "logger.info(f\"Using CLS file: {resume_cls_path}\")\n",
    "\n",
    "# Ensure the cls file specified in master.tex is resume.cls\n",
    "# The compile_latex_to_pdf function handles copying the cls file with the correct name.\n",
    "\n",
    "success = LatexToolBox.compile_resume_latex_to_pdf(\n",
    "    tex_filepath=master_tex_path,\n",
    "    cls_filepath=resume_cls_path, # Provide the actual path to resume.cls\n",
    "    output_destination_path=output_dir\n",
    ")\n",
    "\n",
    "if success:\n",
    "    pdf_output_path = os.path.join(output_dir, \"master.pdf\")\n",
    "    logger.info(f\"LaTeX compilation of {master_tex_path} succeeded. PDF saved at {pdf_output_path}\")\n",
    "    # Clean up auxiliary files\n",
    "    base_name = os.path.splitext(os.path.basename(master_tex_path))[0]\n",
    "    LatexToolBox.cleanup_latex_files(output_dir, base_name)\n",
    "    logger.info(f\"Auxiliary files for {base_name} cleaned up from {output_dir}.\")\n",
    "else:\n",
    "    logger.error(f\"LaTeX compilation of {master_tex_path} failed.\")\n"
   ]
  }
 ],
 "metadata": {
  "kernelspec": {
   "display_name": ".venv",
   "language": "python",
   "name": "python3"
  },
  "language_info": {
   "codemirror_mode": {
    "name": "ipython",
    "version": 3
   },
   "file_extension": ".py",
   "mimetype": "text/x-python",
   "name": "python",
   "nbconvert_exporter": "python",
   "pygments_lexer": "ipython3",
   "version": "3.11.12"
  }
 },
 "nbformat": 4,
 "nbformat_minor": 2
}
