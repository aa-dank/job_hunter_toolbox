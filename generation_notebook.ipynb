{
 "cells": [
  {
   "cell_type": "code",
   "execution_count": 1,
   "metadata": {},
   "outputs": [
    {
     "name": "stderr",
     "output_type": "stream",
     "text": [
      "/Users/aaronrdankert/projects/job_hunter_toolbox/.venv/lib/python3.11/site-packages/tqdm/auto.py:21: TqdmWarning: IProgress not found. Please update jupyter and ipywidgets. See https://ipywidgets.readthedocs.io/en/stable/user_install.html\n",
      "  from .autonotebook import tqdm as notebook_tqdm\n"
     ]
    },
    {
     "name": "stdout",
     "output_type": "stream",
     "text": [
      "Job Details JSON generated at: output_files/Adobe/DataScienceEngi_20241220172036/JD.json\n",
      "\n",
      "Fetching user data...\n"
     ]
    },
    {
     "name": "stderr",
     "output_type": "stream",
     "text": [
      "/Users/aaronrdankert/projects/job_hunter_toolbox/.venv/lib/python3.11/site-packages/pydantic/json_schema.py:2191: PydanticJsonSchemaWarning: Default value (FieldInfo(annotation=NoneType, required=True, description='The name or title of the project.'),) is not JSON serializable; excluding default from JSON schema [non-serializable-default]\n",
      "  warnings.warn(message, PydanticJsonSchemaWarning)\n",
      "/Users/aaronrdankert/projects/job_hunter_toolbox/.venv/lib/python3.11/site-packages/pydantic/json_schema.py:2191: PydanticJsonSchemaWarning: Default value (FieldInfo(annotation=NoneType, required=True, description='The type or category of the project, such as hackathon, publication, professional, and academic.'),) is not JSON serializable; excluding default from JSON schema [non-serializable-default]\n",
      "  warnings.warn(message, PydanticJsonSchemaWarning)\n",
      "/Users/aaronrdankert/projects/job_hunter_toolbox/.venv/lib/python3.11/site-packages/pydantic/json_schema.py:2191: PydanticJsonSchemaWarning: Default value (FieldInfo(annotation=NoneType, required=True, description='The start date of the project. e.g. Aug 2023'),) is not JSON serializable; excluding default from JSON schema [non-serializable-default]\n",
      "  warnings.warn(message, PydanticJsonSchemaWarning)\n",
      "/Users/aaronrdankert/projects/job_hunter_toolbox/.venv/lib/python3.11/site-packages/pydantic/json_schema.py:2191: PydanticJsonSchemaWarning: Default value (FieldInfo(annotation=NoneType, required=True, description='The end date of the project. e.g. Nov 2023'),) is not JSON serializable; excluding default from JSON schema [non-serializable-default]\n",
      "  warnings.warn(message, PydanticJsonSchemaWarning)\n"
     ]
    },
    {
     "name": "stdout",
     "output_type": "stream",
     "text": [
      "\n",
      "Generating Resume Details...\n",
      "Processing Resume's WORK_EXPERIENCE Section...\n",
      "Processing Resume's PROJECTS Section...\n",
      "Processing Resume's SKILL_SECTION Section...\n",
      "Processing Resume's EDUCATION Section...\n",
      "Processing Resume's CERTIFICATIONS Section...\n",
      "Processing Resume's ACHIEVEMENTS Section...\n",
      "Done generating resume tex file\n",
      "Cover Letter generated at:  output_files/Adobe/DataScienceEngi_20241220172036/cover_letter.txt\n"
     ]
    }
   ],
   "source": [
    "import os\n",
    "import shutil\n",
    "from creds import OPENAI_KEY\n",
    "from application_generator import JobApplicationBuilder\n",
    "from utils import LatexToolBox, text_to_pdf\n",
    "from models import ChatGPT\n",
    "from prompts.resume_section_prompts import RESUME_WRITER_PERSONA\n",
    "\n",
    "llm = ChatGPT(\n",
    "    api_key=OPENAI_KEY,\n",
    "    model=\"gpt-4o\",\n",
    "    system_prompt=RESUME_WRITER_PERSONA,\n",
    "    max_output_tokens=None,\n",
    "    temperature=0.7\n",
    ")\n",
    "\n",
    "generator = JobApplicationBuilder(\n",
    "    llm=llm,\n",
    ")\n",
    "\n",
    "job_content_path = r\"input_data/R149561 Data Scientist in Seattle San FRan.pdf\"\n",
    "resume_pdf_path = r\"input_data/full_resume_contents_20241124.pdf\"\n",
    "#resume_pdf_path = r\"input_data/Grad School Resume.pdf\"\n",
    "job_details_dict, job_details_filepath = generator.extract_job_content(job_content_path)\n",
    "resume_dict = generator.user_data_extraction(user_data_path=resume_pdf_path)\n",
    "resume_details_dict, resume_details_filepath = generator.generate_resume_json(job_content=job_details_dict,\n",
    "                                                                              user_data=resume_dict)\n",
    "\n",
    "resume_latex, resume_tex_path = generator.resume_json_to_resume_tex(resume_details=resume_details_dict)\n",
    "print(\"Done generating resume tex file\")\n",
    "\n",
    "cover_letter, cover_letter_txt_path = generator.generate_cover_letter(job_details=job_details_dict,\n",
    "                                                                      user_data=resume_details_dict,\n",
    "                                                                      need_pdf=False)\n",
    "\n",
    "# check that the fonts in the resume tex are available and flag the ones not installed\n",
    "font_statuses = LatexToolBox.check_fonts_installed(resume_tex_path)\n",
    "if not all([v for k, v in font_statuses.items()]):\n",
    "    [print(f\"{k} not installed\") for k, v in font_statuses.items() if not v]"
   ]
  },
  {
   "cell_type": "markdown",
   "metadata": {},
   "source": [
    "Edit the resume latex before running the next cell."
   ]
  },
  {
   "cell_type": "code",
   "execution_count": 2,
   "metadata": {},
   "outputs": [
    {
     "name": "stdout",
     "output_type": "stream",
     "text": [
      "PDF successfully saved to /Users/aaronrdankert/projects/job_hunter_toolbox/output_files/Adobe/DataScienceEngi_20241220172036\n",
      "Resume PDF is saved at output_files/Adobe/DataScienceEngi_20241220172036/resume.pdf\n",
      "Cover Letter PDF is saved at output_files/Adobe/DataScienceEngi_20241220172036/cover_letter.pdf\n"
     ]
    }
   ],
   "source": [
    "LatexToolBox.compile_latex_to_pdf(tex_file_path=resume_tex_path)\n",
    "print(f\"Resume PDF is saved at {resume_tex_path.replace('.tex', '.pdf')}\")\n",
    "\n",
    "cover_letter_pdf_path = cover_letter_txt_path.replace('.txt', '.pdf')\n",
    "cover_letter_pdf_path = text_to_pdf(cover_letter, cover_letter_pdf_path)\n",
    "print(f\"Cover Letter PDF is saved at {cover_letter_pdf_path}\")"
   ]
  },
  {
   "cell_type": "code",
   "execution_count": 3,
   "metadata": {},
   "outputs": [
    {
     "data": {
      "text/plain": [
       "'output_files/Adobe/DataScienceEngi_20241220172036/_1'"
      ]
     },
     "execution_count": 3,
     "metadata": {},
     "output_type": "execute_result"
    }
   ],
   "source": [
    "# move the job content file to the output folder\n",
    "shutil.move(job_content_path, generator.get_job_doc_path())"
   ]
  },
  {
   "cell_type": "code",
   "execution_count": null,
   "metadata": {},
   "outputs": [],
   "source": [
    "from utils import LatexToolBox\n",
    "fonts_required, _ = LatexToolBox.extract_tex_font_dependencies('output_files/Adobe/InternMachineLe_20241209195126/resume.tex')\n",
    "font_dict = LatexToolBox.check_fonts_installed(fonts_required)\n",
    "print(font_dict)"
   ]
  }
 ],
 "metadata": {
  "kernelspec": {
   "display_name": ".venv",
   "language": "python",
   "name": "python3"
  },
  "language_info": {
   "codemirror_mode": {
    "name": "ipython",
    "version": 3
   },
   "file_extension": ".py",
   "mimetype": "text/x-python",
   "name": "python",
   "nbconvert_exporter": "python",
   "pygments_lexer": "ipython3",
   "version": "3.11.10"
  }
 },
 "nbformat": 4,
 "nbformat_minor": 2
}
