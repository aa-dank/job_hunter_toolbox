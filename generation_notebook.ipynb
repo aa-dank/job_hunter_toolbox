{
 "cells": [
  {
   "cell_type": "code",
   "execution_count": 1,
   "metadata": {},
   "outputs": [
    {
     "name": "stderr",
     "output_type": "stream",
     "text": [
      "/Users/aaronrdankert/projects/job_hunter_toolbox/.venv/lib/python3.11/site-packages/tqdm/auto.py:21: TqdmWarning: IProgress not found. Please update jupyter and ipywidgets. See https://ipywidgets.readthedocs.io/en/stable/user_install.html\n",
      "  from .autonotebook import tqdm as notebook_tqdm\n"
     ]
    },
    {
     "name": "stdout",
     "output_type": "stream",
     "text": [
      "Job Details JSON generated at: output_files/MolinaHealthcare/DataAnalystSqlD_20250219194427/JD.json\n",
      "\n",
      "Fetching user data...\n",
      "\n",
      "Generating Resume Details...\n",
      "Processing Resume's WORK_EXPERIENCE Section...\n",
      "Processing Resume's PROJECTS Section...\n",
      "Processing Resume's SKILL_SECTION Section...\n",
      "Processing Resume's EDUCATION Section...\n",
      "Processing Resume's CERTIFICATIONS Section...\n",
      "Processing Resume's ACHIEVEMENTS Section...\n",
      "Done generating resume tex file\n",
      "Cover Letter generated at:  output_files/MolinaHealthcare/DataAnalystSqlD_20250219194427/cover_letter.txt\n"
     ]
    },
    {
     "name": "stderr",
     "output_type": "stream",
     "text": [
      "Matplotlib is building the font cache; this may take a moment.\n"
     ]
    }
   ],
   "source": [
    "import os\n",
    "import shutil\n",
    "from creds import OPENAI_KEY\n",
    "from application_generator import JobApplicationBuild, JobApplicationBuilder\n",
    "from utils import LatexToolBox, text_to_pdf\n",
    "from models import ChatGPT\n",
    "from prompts.resume_section_prompts import RESUME_WRITER_PERSONA\n",
    "import warnings\n",
    "warnings.filterwarnings(\"ignore\", category=DeprecationWarning)\n",
    "warnings.filterwarnings(\"ignore\", category=UserWarning)\n",
    "warnings.filterwarnings(\"ignore\", category=FutureWarning)\n",
    "\n",
    "llm = ChatGPT(\n",
    "    api_key=OPENAI_KEY,\n",
    "    model=\"gpt-4o\",\n",
    "    system_prompt=RESUME_WRITER_PERSONA,\n",
    "    max_output_tokens=None,\n",
    "    temperature=0.7\n",
    ")\n",
    "\n",
    "build = JobApplicationBuild(\n",
    "    resume_tex_template_path=\"less_basic_template.tex\",\n",
    "    resume_cls_path=\"less_basic_template.cls\",\n",
    "    job_content_path=r\"input_data/Molina Data Analyst.pdf\",\n",
    "    user_details_content_path=r\"input_data/full_resume_contents_20250122.pdf\"\n",
    ")\n",
    "\n",
    "generator = JobApplicationBuilder(\n",
    "    llm=llm\n",
    ")\n",
    "\n",
    "build = generator.extract_job_content(build)\n",
    "build = generator.user_data_extraction(build)\n",
    "build = generator.generate_resume_json(build)\n",
    "build = generator.resume_json_to_resume_tex(build)\n",
    "print(\"Done generating resume tex file\")\n",
    "\n",
    "custom_letter_instructions = input(\"Enter any custom application instructions for the cover letter: \")\n",
    "build = generator.generate_cover_letter(build, custom_letter_instructions, need_pdf=False)\n",
    "\n",
    "# check that the fonts in the resume tex are available and flag the ones not installed\n",
    "resume_tex_fonts, _ = LatexToolBox.extract_tex_font_dependencies(build.resume_tex_path)\n",
    "font_statuses = LatexToolBox.check_fonts_installed(resume_tex_fonts)\n",
    "if not all([v for k, v in font_statuses.items()]):\n",
    "    [print(f\"{k} not installed\") for k, v in font_statuses.items() if not v]\n",
    "\n",
    "generator.cleanup_files(build)\n"
   ]
  },
  {
   "cell_type": "markdown",
   "metadata": {},
   "source": [
    "Edit the resume latex and cover letter text before running the next cell."
   ]
  },
  {
   "cell_type": "code",
   "execution_count": 4,
   "metadata": {},
   "outputs": [
    {
     "ename": "FileNotFoundError",
     "evalue": "[Errno 2] No such file or directory: 'less_basic_template.cls'",
     "output_type": "error",
     "traceback": [
      "\u001b[0;31m---------------------------------------------------------------------------\u001b[0m",
      "\u001b[0;31mFileNotFoundError\u001b[0m                         Traceback (most recent call last)",
      "Cell \u001b[0;32mIn[4], line 1\u001b[0m\n\u001b[0;32m----> 1\u001b[0m success \u001b[38;5;241m=\u001b[39m \u001b[43mLatexToolBox\u001b[49m\u001b[38;5;241;43m.\u001b[39;49m\u001b[43mcompile_latex_to_pdf\u001b[49m\u001b[43m(\u001b[49m\n\u001b[1;32m      2\u001b[0m \u001b[43m    \u001b[49m\u001b[43mtex_filepath\u001b[49m\u001b[38;5;241;43m=\u001b[39;49m\u001b[43mbuild\u001b[49m\u001b[38;5;241;43m.\u001b[39;49m\u001b[43mresume_tex_path\u001b[49m\u001b[43m,\u001b[49m\u001b[43m \u001b[49m\n\u001b[1;32m      3\u001b[0m \u001b[43m    \u001b[49m\u001b[43mcls_filepath\u001b[49m\u001b[38;5;241;43m=\u001b[39;49m\u001b[43mbuild\u001b[49m\u001b[38;5;241;43m.\u001b[39;49m\u001b[43mresume_cls_path\u001b[49m\u001b[43m,\u001b[49m\n\u001b[1;32m      4\u001b[0m \u001b[43m    \u001b[49m\u001b[43moutput_destination_path\u001b[49m\u001b[38;5;241;43m=\u001b[39;49m\u001b[43mbuild\u001b[49m\u001b[38;5;241;43m.\u001b[39;49m\u001b[43moutput_destination\u001b[49m\n\u001b[1;32m      5\u001b[0m \u001b[43m)\u001b[49m\n\u001b[1;32m      6\u001b[0m \u001b[38;5;28;01mif\u001b[39;00m success:\n\u001b[1;32m      7\u001b[0m     \u001b[38;5;66;03m# Remove auxiliary files using resume base name (without extension)\u001b[39;00m\n\u001b[1;32m      8\u001b[0m     base_name \u001b[38;5;241m=\u001b[39m os\u001b[38;5;241m.\u001b[39mpath\u001b[38;5;241m.\u001b[39msplitext(os\u001b[38;5;241m.\u001b[39mpath\u001b[38;5;241m.\u001b[39mbasename(build\u001b[38;5;241m.\u001b[39mresume_tex_path))[\u001b[38;5;241m0\u001b[39m]\n",
      "File \u001b[0;32m~/projects/job_hunter_toolbox/utils.py:208\u001b[0m, in \u001b[0;36mLatexToolBox.compile_latex_to_pdf\u001b[0;34m(tex_filepath, cls_filepath, output_destination_path, latex_engine)\u001b[0m\n\u001b[1;32m    206\u001b[0m \u001b[38;5;28;01mif\u001b[39;00m \u001b[38;5;129;01mnot\u001b[39;00m os\u001b[38;5;241m.\u001b[39mpath\u001b[38;5;241m.\u001b[39mexists(cls_dest):\n\u001b[1;32m    207\u001b[0m     \u001b[38;5;28;01mwith\u001b[39;00m \u001b[38;5;28mopen\u001b[39m(cls_filepath, \u001b[38;5;124m'\u001b[39m\u001b[38;5;124mrb\u001b[39m\u001b[38;5;124m'\u001b[39m) \u001b[38;5;28;01mas\u001b[39;00m src, \u001b[38;5;28mopen\u001b[39m(cls_dest, \u001b[38;5;124m'\u001b[39m\u001b[38;5;124mwb\u001b[39m\u001b[38;5;124m'\u001b[39m) \u001b[38;5;28;01mas\u001b[39;00m dst:\n\u001b[0;32m--> 208\u001b[0m         dst\u001b[38;5;241m.\u001b[39mwrite(src\u001b[38;5;241m.\u001b[39mread())\n\u001b[1;32m    210\u001b[0m \u001b[38;5;66;03m# Use basename of the tex file in the command since cwd is set to the output directory\u001b[39;00m\n\u001b[1;32m    211\u001b[0m tex_basename \u001b[38;5;241m=\u001b[39m os\u001b[38;5;241m.\u001b[39mpath\u001b[38;5;241m.\u001b[39mbasename(tex_filepath)\n",
      "\u001b[0;31mFileNotFoundError\u001b[0m: [Errno 2] No such file or directory: 'less_basic_template.cls'"
     ]
    }
   ],
   "source": [
    "success = LatexToolBox.compile_latex_to_pdf(\n",
    "    tex_filepath=build.resume_tex_path, \n",
    "    cls_filepath=build.resume_cls_path,\n",
    "    output_destination_path=build.output_destination\n",
    ")\n",
    "if success:\n",
    "    # Remove auxiliary files using resume base name (without extension)\n",
    "    base_name = os.path.splitext(os.path.basename(build.resume_tex_path))[0]\n",
    "    LatexToolBox.cleanup_latex_files(build.output_destination, base_name)\n",
    "    print(f\"Resume PDF is saved at {build.resume_tex_path.replace('.tex','.pdf')}\")\n",
    "else:\n",
    "    print(\"LaTeX compilation failed.\")\n",
    "\n",
    "cover_letter_pdf_path = build.cover_letter_path.replace('.txt', '.pdf')\n",
    "cover_letter_pdf_path = text_to_pdf(build.cover_letter_path, cover_letter_pdf_path)\n",
    "print(f\"Cover Letter PDF is saved at {cover_letter_pdf_path}\")\n",
    "\n",
    "generator.cleanup_files(build)\n"
   ]
  },
  {
   "cell_type": "code",
   "execution_count": null,
   "metadata": {},
   "outputs": [],
   "source": [
    "# move the job content file to the output folder\n",
    "shutil.move(job_content_path, generator.get_job_doc_path())"
   ]
  },
  {
   "cell_type": "markdown",
   "metadata": {},
   "source": [
    "Edit the resume latex and cover letter text before running the next cell."
   ]
  },
  {
   "cell_type": "code",
   "execution_count": null,
   "metadata": {},
   "outputs": [
    {
     "ename": "KeyboardInterrupt",
     "evalue": "",
     "output_type": "error",
     "traceback": [
      "\u001b[0;31m---------------------------------------------------------------------------\u001b[0m",
      "\u001b[0;31mKeyboardInterrupt\u001b[0m                         Traceback (most recent call last)",
      "Cell \u001b[0;32mIn[3], line 1\u001b[0m\n\u001b[0;32m----> 1\u001b[0m \u001b[43mLatexToolBox\u001b[49m\u001b[38;5;241;43m.\u001b[39;49m\u001b[43mcompile_latex_to_pdf\u001b[49m\u001b[43m(\u001b[49m\u001b[43mtex_file_path\u001b[49m\u001b[38;5;241;43m=\u001b[39;49m\u001b[43mresume_tex_path\u001b[49m\u001b[43m)\u001b[49m\n\u001b[1;32m      2\u001b[0m \u001b[38;5;28mprint\u001b[39m(\u001b[38;5;124mf\u001b[39m\u001b[38;5;124m\"\u001b[39m\u001b[38;5;124mResume PDF is saved at \u001b[39m\u001b[38;5;132;01m{\u001b[39;00mresume_tex_path\u001b[38;5;241m.\u001b[39mreplace(\u001b[38;5;124m'\u001b[39m\u001b[38;5;124m.tex\u001b[39m\u001b[38;5;124m'\u001b[39m,\u001b[38;5;250m \u001b[39m\u001b[38;5;124m'\u001b[39m\u001b[38;5;124m.pdf\u001b[39m\u001b[38;5;124m'\u001b[39m)\u001b[38;5;132;01m}\u001b[39;00m\u001b[38;5;124m\"\u001b[39m)\n\u001b[1;32m      4\u001b[0m cover_letter_pdf_path \u001b[38;5;241m=\u001b[39m cover_letter_txt_path\u001b[38;5;241m.\u001b[39mreplace(\u001b[38;5;124m'\u001b[39m\u001b[38;5;124m.txt\u001b[39m\u001b[38;5;124m'\u001b[39m, \u001b[38;5;124m'\u001b[39m\u001b[38;5;124m.pdf\u001b[39m\u001b[38;5;124m'\u001b[39m)\n",
      "File \u001b[0;32m~/projects/job_hunter_toolbox/utils.py:229\u001b[0m, in \u001b[0;36mLatexToolBox.compile_latex_to_pdf\u001b[0;34m(tex_file_path, destination_path, latex_engine)\u001b[0m\n\u001b[1;32m    226\u001b[0m \u001b[38;5;66;03m# Run the LaTeX engine multiple times if necessary.\u001b[39;00m\n\u001b[1;32m    227\u001b[0m \u001b[38;5;66;03m# It is common for LaTeX to require multiple runs to resolve references.\u001b[39;00m\n\u001b[1;32m    228\u001b[0m \u001b[38;5;28;01mfor\u001b[39;00m _ \u001b[38;5;129;01min\u001b[39;00m \u001b[38;5;28mrange\u001b[39m(\u001b[38;5;241m2\u001b[39m):\n\u001b[0;32m--> 229\u001b[0m     result \u001b[38;5;241m=\u001b[39m \u001b[43msubprocess\u001b[49m\u001b[38;5;241;43m.\u001b[39;49m\u001b[43mrun\u001b[49m\u001b[43m(\u001b[49m\n\u001b[1;32m    230\u001b[0m \u001b[43m        \u001b[49m\u001b[43m[\u001b[49m\u001b[43mlatex_engine\u001b[49m\u001b[43m,\u001b[49m\u001b[43m \u001b[49m\u001b[38;5;124;43m\"\u001b[39;49m\u001b[38;5;124;43m-output-directory\u001b[39;49m\u001b[38;5;124;43m\"\u001b[39;49m\u001b[43m,\u001b[49m\u001b[43m \u001b[49m\u001b[43moutput_dir\u001b[49m\u001b[43m,\u001b[49m\u001b[43m \u001b[49m\u001b[43mtex_file_path\u001b[49m\u001b[43m]\u001b[49m\u001b[43m,\u001b[49m\n\u001b[1;32m    231\u001b[0m \u001b[43m        \u001b[49m\u001b[43mstdout\u001b[49m\u001b[38;5;241;43m=\u001b[39;49m\u001b[43msubprocess\u001b[49m\u001b[38;5;241;43m.\u001b[39;49m\u001b[43mPIPE\u001b[49m\u001b[43m,\u001b[49m\n\u001b[1;32m    232\u001b[0m \u001b[43m        \u001b[49m\u001b[43mstderr\u001b[49m\u001b[38;5;241;43m=\u001b[39;49m\u001b[43msubprocess\u001b[49m\u001b[38;5;241;43m.\u001b[39;49m\u001b[43mPIPE\u001b[49m\u001b[43m,\u001b[49m\n\u001b[1;32m    233\u001b[0m \u001b[43m    \u001b[49m\u001b[43m)\u001b[49m\n\u001b[1;32m    235\u001b[0m     \u001b[38;5;28;01mif\u001b[39;00m result\u001b[38;5;241m.\u001b[39mreturncode \u001b[38;5;241m!=\u001b[39m \u001b[38;5;241m0\u001b[39m:\n\u001b[1;32m    236\u001b[0m         \u001b[38;5;28mprint\u001b[39m(\u001b[38;5;124m\"\u001b[39m\u001b[38;5;124mError during PDF generation:\u001b[39m\u001b[38;5;124m\"\u001b[39m)\n",
      "File \u001b[0;32m/usr/local/Cellar/python@3.11/3.11.11/Frameworks/Python.framework/Versions/3.11/lib/python3.11/subprocess.py:550\u001b[0m, in \u001b[0;36mrun\u001b[0;34m(input, capture_output, timeout, check, *popenargs, **kwargs)\u001b[0m\n\u001b[1;32m    548\u001b[0m \u001b[38;5;28;01mwith\u001b[39;00m Popen(\u001b[38;5;241m*\u001b[39mpopenargs, \u001b[38;5;241m*\u001b[39m\u001b[38;5;241m*\u001b[39mkwargs) \u001b[38;5;28;01mas\u001b[39;00m process:\n\u001b[1;32m    549\u001b[0m     \u001b[38;5;28;01mtry\u001b[39;00m:\n\u001b[0;32m--> 550\u001b[0m         stdout, stderr \u001b[38;5;241m=\u001b[39m \u001b[43mprocess\u001b[49m\u001b[38;5;241;43m.\u001b[39;49m\u001b[43mcommunicate\u001b[49m\u001b[43m(\u001b[49m\u001b[38;5;28;43minput\u001b[39;49m\u001b[43m,\u001b[49m\u001b[43m \u001b[49m\u001b[43mtimeout\u001b[49m\u001b[38;5;241;43m=\u001b[39;49m\u001b[43mtimeout\u001b[49m\u001b[43m)\u001b[49m\n\u001b[1;32m    551\u001b[0m     \u001b[38;5;28;01mexcept\u001b[39;00m TimeoutExpired \u001b[38;5;28;01mas\u001b[39;00m exc:\n\u001b[1;32m    552\u001b[0m         process\u001b[38;5;241m.\u001b[39mkill()\n",
      "File \u001b[0;32m/usr/local/Cellar/python@3.11/3.11.11/Frameworks/Python.framework/Versions/3.11/lib/python3.11/subprocess.py:1209\u001b[0m, in \u001b[0;36mPopen.communicate\u001b[0;34m(self, input, timeout)\u001b[0m\n\u001b[1;32m   1206\u001b[0m     endtime \u001b[38;5;241m=\u001b[39m \u001b[38;5;28;01mNone\u001b[39;00m\n\u001b[1;32m   1208\u001b[0m \u001b[38;5;28;01mtry\u001b[39;00m:\n\u001b[0;32m-> 1209\u001b[0m     stdout, stderr \u001b[38;5;241m=\u001b[39m \u001b[38;5;28;43mself\u001b[39;49m\u001b[38;5;241;43m.\u001b[39;49m\u001b[43m_communicate\u001b[49m\u001b[43m(\u001b[49m\u001b[38;5;28;43minput\u001b[39;49m\u001b[43m,\u001b[49m\u001b[43m \u001b[49m\u001b[43mendtime\u001b[49m\u001b[43m,\u001b[49m\u001b[43mtimeout\u001b[49m\u001b[43m)\u001b[49m\n\u001b[1;32m   1210\u001b[0m \u001b[38;5;28;01mexcept\u001b[39;00m \u001b[38;5;167;01mKeyboardInterrupt\u001b[39;00m:\n\u001b[1;32m   1211\u001b[0m     \u001b[38;5;66;03m# https://bugs.python.org/issue25942\u001b[39;00m\n\u001b[1;32m   1212\u001b[0m     \u001b[38;5;66;03m# See the detailed comment in .wait().\u001b[39;00m\n\u001b[1;32m   1213\u001b[0m     \u001b[38;5;28;01mif\u001b[39;00m timeout \u001b[38;5;129;01mis\u001b[39;00m \u001b[38;5;129;01mnot\u001b[39;00m \u001b[38;5;28;01mNone\u001b[39;00m:\n",
      "File \u001b[0;32m/usr/local/Cellar/python@3.11/3.11.11/Frameworks/Python.framework/Versions/3.11/lib/python3.11/subprocess.py:2115\u001b[0m, in \u001b[0;36mPopen._communicate\u001b[0;34m(self, input, endtime, orig_timeout)\u001b[0m\n\u001b[1;32m   2108\u001b[0m     \u001b[38;5;28mself\u001b[39m\u001b[38;5;241m.\u001b[39m_check_timeout(endtime, orig_timeout,\n\u001b[1;32m   2109\u001b[0m                         stdout, stderr,\n\u001b[1;32m   2110\u001b[0m                         skip_check_and_raise\u001b[38;5;241m=\u001b[39m\u001b[38;5;28;01mTrue\u001b[39;00m)\n\u001b[1;32m   2111\u001b[0m     \u001b[38;5;28;01mraise\u001b[39;00m \u001b[38;5;167;01mRuntimeError\u001b[39;00m(  \u001b[38;5;66;03m# Impossible :)\u001b[39;00m\n\u001b[1;32m   2112\u001b[0m         \u001b[38;5;124m'\u001b[39m\u001b[38;5;124m_check_timeout(..., skip_check_and_raise=True) \u001b[39m\u001b[38;5;124m'\u001b[39m\n\u001b[1;32m   2113\u001b[0m         \u001b[38;5;124m'\u001b[39m\u001b[38;5;124mfailed to raise TimeoutExpired.\u001b[39m\u001b[38;5;124m'\u001b[39m)\n\u001b[0;32m-> 2115\u001b[0m ready \u001b[38;5;241m=\u001b[39m \u001b[43mselector\u001b[49m\u001b[38;5;241;43m.\u001b[39;49m\u001b[43mselect\u001b[49m\u001b[43m(\u001b[49m\u001b[43mtimeout\u001b[49m\u001b[43m)\u001b[49m\n\u001b[1;32m   2116\u001b[0m \u001b[38;5;28mself\u001b[39m\u001b[38;5;241m.\u001b[39m_check_timeout(endtime, orig_timeout, stdout, stderr)\n\u001b[1;32m   2118\u001b[0m \u001b[38;5;66;03m# XXX Rewrite these to use non-blocking I/O on the file\u001b[39;00m\n\u001b[1;32m   2119\u001b[0m \u001b[38;5;66;03m# objects; they are no longer using C stdio!\u001b[39;00m\n",
      "File \u001b[0;32m/usr/local/Cellar/python@3.11/3.11.11/Frameworks/Python.framework/Versions/3.11/lib/python3.11/selectors.py:415\u001b[0m, in \u001b[0;36m_PollLikeSelector.select\u001b[0;34m(self, timeout)\u001b[0m\n\u001b[1;32m    413\u001b[0m ready \u001b[38;5;241m=\u001b[39m []\n\u001b[1;32m    414\u001b[0m \u001b[38;5;28;01mtry\u001b[39;00m:\n\u001b[0;32m--> 415\u001b[0m     fd_event_list \u001b[38;5;241m=\u001b[39m \u001b[38;5;28mself\u001b[39m\u001b[38;5;241m.\u001b[39m_selector\u001b[38;5;241m.\u001b[39mpoll(timeout)\n\u001b[1;32m    416\u001b[0m \u001b[38;5;28;01mexcept\u001b[39;00m \u001b[38;5;167;01mInterruptedError\u001b[39;00m:\n\u001b[1;32m    417\u001b[0m     \u001b[38;5;28;01mreturn\u001b[39;00m ready\n",
      "\u001b[0;31mKeyboardInterrupt\u001b[0m: "
     ]
    }
   ],
   "source": [
    "LatexToolBox.compile_latex_to_pdf(tex_filepath=resume_tex_path)\n",
    "print(f\"Resume PDF is saved at {resume_tex_path.replace('.tex', '.pdf')}\")\n",
    "\n",
    "cover_letter_pdf_path = cover_letter_txt_path.replace('.txt', '.pdf')\n",
    "cover_letter_pdf_path = text_to_pdf(cover_letter, cover_letter_pdf_path)\n",
    "print(f\"Cover Letter PDF is saved at {cover_letter_pdf_path}\")"
   ]
  },
  {
   "cell_type": "code",
   "execution_count": null,
   "metadata": {},
   "outputs": [],
   "source": [
    "# move the job content file to the output folder\n",
    "shutil.move(job_content_path, generator.get_job_doc_path())"
   ]
  },
  {
   "cell_type": "code",
   "execution_count": 1,
   "metadata": {},
   "outputs": [
    {
     "name": "stderr",
     "output_type": "stream",
     "text": [
      "/Users/aaronrdankert/projects/job_hunter_toolbox/.venv/lib/python3.11/site-packages/tqdm/auto.py:21: TqdmWarning: IProgress not found. Please update jupyter and ipywidgets. See https://ipywidgets.readthedocs.io/en/stable/user_install.html\n",
      "  from .autonotebook import tqdm as notebook_tqdm\n"
     ]
    },
    {
     "name": "stdout",
     "output_type": "stream",
     "text": [
      "True\n"
     ]
    },
    {
     "data": {
      "text/plain": [
       "True"
      ]
     },
     "execution_count": 1,
     "metadata": {},
     "output_type": "execute_result"
    }
   ],
   "source": [
    "import os\n",
    "import shutil\n",
    "from creds import OPENAI_KEY\n",
    "from application_generator import JobApplicationBuilder\n",
    "from application_generator import JobApplicationBuilder\n",
    "from utils import LatexToolBox, text_to_pdf\n",
    "from models import ChatGPT\n",
    "from prompts.resume_section_prompts import RESUME_WRITER_PERSONA\n",
    "import warnings\n",
    "warnings.filterwarnings(\"ignore\", category=DeprecationWarning)\n",
    "warnings.filterwarnings(\"ignore\", category=UserWarning)\n",
    "warnings.filterwarnings(\"ignore\", category=FutureWarning)\n",
    "\n",
    "p = r\"output_files/MolinaHealthcare/DataAnalystSqlD_20250219194427/resume.tex\"\n",
    "print(os.path.exists(p))\n",
    "\n",
    "LatexToolBox.compile_latex_to_pdf(tex_filepath=p,\n",
    "                                  cls_filepath=\"templates/less_basic_template.cls\",\n",
    "                                  output_destination_path=\"output_files/MolinaHealthcare/DataAnalystSqlD_20250219194427\")"
   ]
  },
  {
   "cell_type": "code",
   "execution_count": null,
   "metadata": {},
   "outputs": [],
   "source": []
  }
 ],
 "metadata": {
  "kernelspec": {
   "display_name": ".venv",
   "language": "python",
   "name": "python3"
  },
  "language_info": {
   "codemirror_mode": {
    "name": "ipython",
    "version": 3
   },
   "file_extension": ".py",
   "mimetype": "text/x-python",
   "name": "python",
   "nbconvert_exporter": "python",
   "pygments_lexer": "ipython3",
   "version": "3.11.11"
  }
 },
 "nbformat": 4,
 "nbformat_minor": 2
}
