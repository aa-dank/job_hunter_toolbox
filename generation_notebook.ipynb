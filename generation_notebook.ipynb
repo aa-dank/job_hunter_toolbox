{
 "cells": [
  {
   "cell_type": "code",
   "execution_count": null,
   "metadata": {},
   "outputs": [],
   "source": [
    "import os\n",
    "import shutil\n",
    "from creds import OPENAI_KEY\n",
    "from application_generator import JobApplicationBuild, JobApplicationBuilder\n",
    "from utils import LatexToolBox, text_to_pdf\n",
    "from models import ChatGPT\n",
    "from prompts.resume_section_prompts import RESUME_WRITER_PERSONA\n",
    "import warnings\n",
    "warnings.filterwarnings(\"ignore\", category=DeprecationWarning)\n",
    "warnings.filterwarnings(\"ignore\", category=UserWarning)\n",
    "warnings.filterwarnings(\"ignore\", category=FutureWarning)\n",
    "\n",
    "# Setup the LLM model to be used\n",
    "llm = ChatGPT(\n",
    "    api_key=OPENAI_KEY,\n",
    "    model=\"gpt-4o\",\n",
    "    system_prompt=RESUME_WRITER_PERSONA,\n",
    "    max_output_tokens=None,\n",
    "    temperature=0.7\n",
    ")\n",
    "\n",
    "# Create a build object which contains resume and job content paths, as well\n",
    "# as the resume template to be used\n",
    "build = JobApplicationBuild(\n",
    "    resume_tex_template_path=\"slightly_less_basic_template.tex\",\n",
    "    job_content_path=r\"input_data/Intuitive AI_ML Data Scientist Intern.pdf\",\n",
    "    resume_content_path=r\"input_data/full_resume_contents_20250122.pdf\"\n",
    ")\n",
    "\n",
    "# Create a job application generator object to execute the application generation process\n",
    "generator = JobApplicationBuilder(\n",
    "    llm=llm,\n",
    "    build=build\n",
    ")\n",
    "\n",
    "job_details_dict, job_details_filepath = generator.extract_job_content(build.job_content_path)\n",
    "resume_dict = generator.user_data_extraction(build.resume_content_path)\n",
    "resume_details_dict, resume_details_filepath = generator.generate_resume_json(job_content=job_details_dict,\n",
    "                                                                              user_data=resume_dict)\n",
    "\n",
    "resume_latex, resume_tex_path = generator.resume_json_to_resume_tex(resume_details=resume_details_dict)\n",
    "print(\"Done generating resume tex file\")\n",
    "\n",
    "\n",
    "custom_letter_instructions = input(\"Enter any custom application instructions for the cover letter: \")\n",
    "cover_letter, cover_letter_txt_path = generator.generate_cover_letter(job_details=job_details_dict,\n",
    "                                                                      user_data=resume_details_dict,\n",
    "                                                                      custom_instructions=custom_letter_instructions,\n",
    "                                                                      need_pdf=False)\n",
    "\n",
    "# check that the fonts in the resume tex are available and flag the ones not installed\n",
    "resume_tex_fonts, _ = LatexToolBox.extract_tex_font_dependencies(resume_tex_path)\n",
    "font_statuses = LatexToolBox.check_fonts_installed(resume_tex_fonts)\n",
    "if not all([v for k, v in font_statuses.items()]):\n",
    "    [print(f\"{k} not installed\") for k, v in font_statuses.items() if not v]"
   ]
  },
  {
   "cell_type": "markdown",
   "metadata": {},
   "source": [
    "Edit the resume latex and cover letter text before running the next cell."
   ]
  },
  {
   "cell_type": "code",
   "execution_count": null,
   "metadata": {},
   "outputs": [],
   "source": [
    "LatexToolBox.compile_latex_to_pdf(tex_file_path=resume_tex_path)\n",
    "print(f\"Resume PDF is saved at {resume_tex_path.replace('.tex', '.pdf')}\")\n",
    "\n",
    "cover_letter_pdf_path = cover_letter_txt_path.replace('.txt', '.pdf')\n",
    "cover_letter_pdf_path = text_to_pdf(cover_letter, cover_letter_pdf_path)\n",
    "print(f\"Cover Letter PDF is saved at {cover_letter_pdf_path}\")"
   ]
  },
  {
   "cell_type": "code",
   "execution_count": null,
   "metadata": {},
   "outputs": [],
   "source": [
    "# move the job content file to the output folder\n",
    "shutil.move(job_details_filepath, os.path.join(\"output\", os.path.basename(job_details_filepath)))"
   ]
  },
  {
   "cell_type": "markdown",
   "metadata": {},
   "source": [
    "Edit the resume latex and cover letter text before running the next cell."
   ]
  },
  {
   "cell_type": "code",
   "execution_count": null,
   "metadata": {},
   "outputs": [],
   "source": [
    "LatexToolBox.compile_latex_to_pdf(tex_file_path=resume_tex_path)\n",
    "print(f\"Resume PDF is saved at {resume_tex_path.replace('.tex', '.pdf')}\")\n",
    "\n",
    "cover_letter_pdf_path = cover_letter_txt_path.replace('.txt', '.pdf')\n",
    "cover_letter_pdf_path = text_to_pdf(cover_letter, cover_letter_pdf_path)\n",
    "print(f\"Cover Letter PDF is saved at {cover_letter_pdf_path}\")"
   ]
  },
  {
   "cell_type": "code",
   "execution_count": null,
   "metadata": {},
   "outputs": [],
   "source": [
    "# move the job content file to the output folder\n",
    "shutil.move(job_content_path, generator.get_job_doc_path())"
   ]
  }
 ],
 "metadata": {
  "kernelspec": {
   "display_name": ".venv",
   "language": "python",
   "name": "python3"
  },
  "language_info": {
   "codemirror_mode": {
    "name": "ipython",
    "version": 3
   },
   "file_extension": ".py",
   "mimetype": "text/x-python",
   "name": "python",
   "nbconvert_exporter": "python",
   "pygments_lexer": "ipython3",
   "version": "3.11.11"
  }
 },
 "nbformat": 4,
 "nbformat_minor": 2
}
