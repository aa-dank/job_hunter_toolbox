{
 "cells": [
  {
   "cell_type": "code",
   "execution_count": 2,
   "metadata": {},
   "outputs": [
    {
     "name": "stdout",
     "output_type": "stream",
     "text": [
      "Job Details JSON generated at: output_files/Adobe/DataScienceSumm_20250120205150/JD.json\n",
      "\n",
      "Fetching user data...\n",
      "\n",
      "Generating Resume Details...\n",
      "Processing Resume's WORK_EXPERIENCE Section...\n",
      "Processing Resume's PROJECTS Section...\n",
      "Processing Resume's SKILL_SECTION Section...\n",
      "Processing Resume's EDUCATION Section...\n",
      "Processing Resume's CERTIFICATIONS Section...\n",
      "Processing Resume's ACHIEVEMENTS Section...\n",
      "Done generating resume tex file\n",
      "Cover Letter generated at:  output_files/Adobe/DataScienceSumm_20250120205150/cover_letter.txt\n"
     ]
    },
    {
     "name": "stderr",
     "output_type": "stream",
     "text": [
      "Matplotlib is building the font cache; this may take a moment.\n"
     ]
    }
   ],
   "source": [
    "import os\n",
    "import shutil\n",
    "from creds import OPENAI_KEY\n",
    "from application_generator import JobApplicationBuilder\n",
    "from utils import LatexToolBox, text_to_pdf\n",
    "from models import ChatGPT\n",
    "from prompts.resume_section_prompts import RESUME_WRITER_PERSONA\n",
    "import warnings\n",
    "warnings.filterwarnings(\"ignore\", category=DeprecationWarning)\n",
    "warnings.filterwarnings(\"ignore\", category=UserWarning)\n",
    "warnings.filterwarnings(\"ignore\", category=FutureWarning)\n",
    "\n",
    "llm = ChatGPT(\n",
    "    api_key=OPENAI_KEY,\n",
    "    model=\"gpt-4o\",\n",
    "    system_prompt=RESUME_WRITER_PERSONA,\n",
    "    max_output_tokens=None,\n",
    "    temperature=0.7\n",
    ")\n",
    "\n",
    "generator = JobApplicationBuilder(\n",
    "    llm=llm,\n",
    "    resume_template_file=\"slightly_less_basic_template.tex\"\n",
    "    )\n",
    "\n",
    "job_content_path = r\"input_data/Adobe Intern Data Science in San Jose R149568.pdf\"\n",
    "resume_pdf_path = r\"input_data/full_resume_contents_20250120.pdf\"\n",
    "#resume_pdf_path = r\"input_data/Grad School Resume.pdf\"\n",
    "job_details_dict, job_details_filepath = generator.extract_job_content(job_content_path)\n",
    "resume_dict = generator.user_data_extraction(user_data_path=resume_pdf_path)\n",
    "resume_details_dict, resume_details_filepath = generator.generate_resume_json(job_content=job_details_dict,\n",
    "                                                                              user_data=resume_dict)\n",
    "\n",
    "resume_latex, resume_tex_path = generator.resume_json_to_resume_tex(resume_details=resume_details_dict)\n",
    "print(\"Done generating resume tex file\")\n",
    "\n",
    "\n",
    "custom_letter_instructions = input(\"Enter any custom application instructions for the cover letter: \")\n",
    "cover_letter, cover_letter_txt_path = generator.generate_cover_letter(job_details=job_details_dict,\n",
    "                                                                      user_data=resume_details_dict,\n",
    "                                                                      custom_instructions=custom_letter_instructions,\n",
    "                                                                      need_pdf=False)\n",
    "\n",
    "# check that the fonts in the resume tex are available and flag the ones not installed\n",
    "resume_tex_fonts, _ = LatexToolBox.extract_tex_font_dependencies(resume_tex_path)\n",
    "font_statuses = LatexToolBox.check_fonts_installed(resume_tex_fonts)\n",
    "if not all([v for k, v in font_statuses.items()]):\n",
    "    [print(f\"{k} not installed\") for k, v in font_statuses.items() if not v]"
   ]
  },
  {
   "cell_type": "markdown",
   "metadata": {},
   "source": [
    "Edit the resume latex and cover letter text before running the next cell."
   ]
  },
  {
   "cell_type": "code",
   "execution_count": 2,
   "metadata": {},
   "outputs": [
    {
     "name": "stdout",
     "output_type": "stream",
     "text": [
      "PDF successfully saved to /Users/aaronrdankert/projects/job_hunter_toolbox/output_files/AsmlUs/InternHmiCustom_20250117203226\n",
      "Resume PDF is saved at output_files/AsmlUs/InternHmiCustom_20250117203226/resume.pdf\n",
      "Cover Letter PDF is saved at output_files/AsmlUs/InternHmiCustom_20250117203226/cover_letter.pdf\n"
     ]
    }
   ],
   "source": [
    "LatexToolBox.compile_latex_to_pdf(tex_file_path=resume_tex_path)\n",
    "print(f\"Resume PDF is saved at {resume_tex_path.replace('.tex', '.pdf')}\")\n",
    "\n",
    "cover_letter_pdf_path = cover_letter_txt_path.replace('.txt', '.pdf')\n",
    "cover_letter_pdf_path = text_to_pdf(cover_letter, cover_letter_pdf_path)\n",
    "print(f\"Cover Letter PDF is saved at {cover_letter_pdf_path}\")"
   ]
  },
  {
   "cell_type": "code",
   "execution_count": 3,
   "metadata": {},
   "outputs": [
    {
     "data": {
      "text/plain": [
       "'output_files/AsmlUs/InternHmiCustom_20250117203226/full_resume_contents_20250110.pdf'"
      ]
     },
     "execution_count": 3,
     "metadata": {},
     "output_type": "execute_result"
    }
   ],
   "source": [
    "# move the job content file to the output folder\n",
    "shutil.move(job_content_path, generator.get_job_doc_path())\n",
    "\n",
    "# move the job_content_path to the output folder\n",
    "shutil.move(resume_pdf_path, generator.get_job_doc_path())"
   ]
  }
 ],
 "metadata": {
  "kernelspec": {
   "display_name": ".venv",
   "language": "python",
   "name": "python3"
  },
  "language_info": {
   "codemirror_mode": {
    "name": "ipython",
    "version": 3
   },
   "file_extension": ".py",
   "mimetype": "text/x-python",
   "name": "python",
   "nbconvert_exporter": "python",
   "pygments_lexer": "ipython3",
   "version": "3.11.11"
  }
 },
 "nbformat": 4,
 "nbformat_minor": 2
}
